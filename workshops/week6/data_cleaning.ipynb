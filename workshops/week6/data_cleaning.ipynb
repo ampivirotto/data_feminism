{
 "cells": [
  {
   "cell_type": "code",
   "execution_count": null,
   "metadata": {},
   "outputs": [],
   "source": [
    "import pandas as pd \n",
    "import numpy as np"
   ]
  },
  {
   "cell_type": "code",
   "execution_count": null,
   "metadata": {},
   "outputs": [],
   "source": [
    "df_example = pd.read_csv('audible_uncleaned.csv')\n",
    "df_example"
   ]
  },
  {
   "cell_type": "code",
   "execution_count": null,
   "metadata": {},
   "outputs": [],
   "source": [
    "## AUTHOR \n"
   ]
  },
  {
   "cell_type": "code",
   "execution_count": null,
   "metadata": {},
   "outputs": [],
   "source": [
    "import matplotlib.pyplot as plt\n",
    "\n",
    "valueCounts = df_example['author'].head(100).value_counts()\n",
    "\n",
    "valueCounts.plot(kind='bar')"
   ]
  },
  {
   "cell_type": "code",
   "execution_count": null,
   "metadata": {},
   "outputs": [],
   "source": [
    "## NARRATOR"
   ]
  },
  {
   "cell_type": "code",
   "execution_count": null,
   "metadata": {},
   "outputs": [],
   "source": [
    "## TIME\n",
    "def convertTime(timeString):\n",
    "    totalMins = 0\n",
    "    splitString = timeString.split(' and ')\n",
    "    for item in splitString:\n",
    "        if 'hrs' in item:\n",
    "            hours = int(item.split(' ')[0])\n",
    "            totalMins += (60*hours)\n",
    "        elif 'mins' in item:\n",
    "            mins = int(item.split(' ')[0])\n",
    "            totalMins += mins\n",
    "    return totalMins\n",
    "\n",
    "df_example['time'] = ...\n",
    "df_example"
   ]
  },
  {
   "cell_type": "code",
   "execution_count": null,
   "metadata": {},
   "outputs": [],
   "source": [
    "## RELEASE DATE\n",
    "\n",
    "df_example['releasedate'] = pd.to_datetime(df_example[\"releasedate\"], infer_datetime_format=True, format='mixed').dt.strftime('%Y-%m-%d')\n",
    "df_example"
   ]
  },
  {
   "cell_type": "code",
   "execution_count": null,
   "metadata": {},
   "outputs": [],
   "source": [
    "## STARS\n",
    "\n",
    "notRated = df_example[df_example['stars'] == 'Not rated yet']\n",
    "rated = ...\n",
    "\n",
    "rated"
   ]
  },
  {
   "cell_type": "code",
   "execution_count": null,
   "metadata": {},
   "outputs": [],
   "source": [
    "rated[['stars', 'numRatings']] = rated['stars'].str.split('stars', expand = True)\n",
    "rated"
   ]
  },
  {
   "cell_type": "code",
   "execution_count": null,
   "metadata": {},
   "outputs": [],
   "source": [
    "rated['stars']\n"
   ]
  },
  {
   "cell_type": "markdown",
   "metadata": {},
   "source": [
    "## Try this yourself with the survey data we've been generating. Examine the columns and pick one to attempt to \"clean\" up. What do you want to accomplish? How are you planning to do so? Try to this with python code.  "
   ]
  },
  {
   "cell_type": "code",
   "execution_count": null,
   "metadata": {},
   "outputs": [],
   "source": [
    "df_class = pd.read_csv('survey_b215.csv')\n",
    "df_class"
   ]
  },
  {
   "cell_type": "code",
   "execution_count": null,
   "metadata": {},
   "outputs": [],
   "source": []
  }
 ],
 "metadata": {
  "kernelspec": {
   "display_name": "base",
   "language": "python",
   "name": "python3"
  },
  "language_info": {
   "codemirror_mode": {
    "name": "ipython",
    "version": 3
   },
   "file_extension": ".py",
   "mimetype": "text/x-python",
   "name": "python",
   "nbconvert_exporter": "python",
   "pygments_lexer": "ipython3",
   "version": "3.12.3"
  }
 },
 "nbformat": 4,
 "nbformat_minor": 2
}
