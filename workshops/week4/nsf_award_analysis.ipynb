{
 "cells": [
  {
   "cell_type": "code",
   "execution_count": null,
   "metadata": {},
   "outputs": [],
   "source": [
    "import pandas as pd\n",
    "import numpy as np\n",
    "import matplotlib.pyplot as plt\n",
    "import random"
   ]
  },
  {
   "cell_type": "markdown",
   "metadata": {},
   "source": [
    "## As of last week, one of the executive orders coming from President Donald Trump in the White House is to have the National Science Foundation flag certain words in the grant proposals submitted to them. \n",
    "\n",
    "Today we're going to analyze the language in previous grant proposals from a number of institutions. \n",
    "\n",
    "What similarities and differences do we see between the language used in each of these institutions?\n",
    "\n",
    "What does the language tell us about the institutions?\n",
    "\n",
    "Are there ways that these institutions can maneuver around these restrictions?\n",
    "\n",
    "How does this connect to challenging data neutrality? "
   ]
  },
  {
   "cell_type": "code",
   "execution_count": null,
   "metadata": {},
   "outputs": [],
   "source": [
    "## list of words pulled from The Washington Post (https://www.washingtonpost.com/science/2025/02/04/national-science-foundation-trump-executive-orders-words/)\n",
    "\n",
    "words = ['advocacy', 'antiracist', 'barrier', 'biases', 'disability', 'diverse', 'diversity', 'diversified', 'ethnicity', 'exclude', 'exclusion', 'equity', 'female', 'gender', 'hate', 'historically', 'inclusion', 'inclusive', 'inequities', 'institutional', 'intersectional', 'marginalized', 'minority', 'multicultural', 'oppression', 'polarization', 'racially', 'segregation', 'socioeconomic', 'systemic', 'trauma', 'underrepresented', 'underserved', 'victims', 'women']\n",
    "\n",
    "words"
   ]
  },
  {
   "cell_type": "code",
   "execution_count": null,
   "metadata": {},
   "outputs": [],
   "source": [
    "def createEmptyWordDict(words):\n",
    "    word_dict = {}\n",
    "    for word in words:\n",
    "        word_dict[word] = 0\n",
    "\n",
    "    print(word_dict)\n",
    "    return word_dict"
   ]
  },
  {
   "cell_type": "code",
   "execution_count": null,
   "metadata": {},
   "outputs": [],
   "source": [
    "college1_words = createEmptyWordDict(words)\n",
    "college1_file = open('college_1.txt', 'r')\n",
    "college1_lines = college1_file.readlines()\n",
    "...\n",
    "\n",
    "college1_words"
   ]
  },
  {
   "cell_type": "code",
   "execution_count": null,
   "metadata": {},
   "outputs": [],
   "source": [
    "plt.bar(range(len(college1_words)), list(college1_words.values()), align='center')\n",
    "plt.xticks(range(len(college1_words)), list(college1_words.keys()), rotation=90)\n",
    "\n",
    "plt.show()"
   ]
  },
  {
   "cell_type": "code",
   "execution_count": null,
   "metadata": {},
   "outputs": [],
   "source": [
    "college2_words = createEmptyWordDict(words)\n",
    "college2_file = open('college_2.txt', 'r')\n",
    "college2_lines = college2_file.readlines()\n",
    "\n",
    "\n"
   ]
  },
  {
   "cell_type": "code",
   "execution_count": null,
   "metadata": {},
   "outputs": [],
   "source": [
    "college3_words = createEmptyWordDict(words)\n",
    "college3_file = open('college_3.txt', 'r')\n",
    "college3_lines = college3_file.readlines()\n",
    "\n"
   ]
  },
  {
   "cell_type": "code",
   "execution_count": null,
   "metadata": {},
   "outputs": [],
   "source": []
  },
  {
   "cell_type": "markdown",
   "metadata": {},
   "source": [
    "#### Below is the process for creatin the text files of the abstracts. Methodology:\n",
    "1. Search for specific college at [https://www.nsf.gov/awardsearch/simpleSearch.jsp](https://www.nsf.gov/awardsearch/simpleSearch.jsp)\n",
    "2. You can filter by State if you'd like at this step - this could be particularly helpful if you're being returned several hundred results. \n",
    "3. Export the awards in CSV format by selecting the button for CSV right above the Sort by function. \n",
    "4. Open the CSV file in excel, it will likely ask you if you want to convert the trailing zeros - select yes. \n",
    "5. Utilize the read_csv() function below to extract just the abstract texts. It takes three parameters: (1) your file name with the awards, this will likely be awards.csv unless you change it, (2) the name of the college or university you're investigating - make sure it matches the format exactly, and (3) a random number to name the file to anonymize it. "
   ]
  },
  {
   "cell_type": "code",
   "execution_count": null,
   "metadata": {},
   "outputs": [],
   "source": [
    "def readCSV(fname, collegeName, num):\n",
    "    try:\n",
    "        college1 = pd.read_csv(fname)\n",
    "    except:\n",
    "        college1 = pd.read_csv(fname, encoding='windows-1252')\n",
    "    college1 = college1[college1['Organization'] == collegeName]\n",
    "\n",
    "    abstracts = ''\n",
    "\n",
    "    for abstract in college1['Abstract']:\n",
    "        try:\n",
    "            abstracts += abstract + ' '\n",
    "        except:\n",
    "            continue\n",
    "\n",
    "    with open('college_{}.txt'.format(str(num)), 'w') as f:\n",
    "        f.write(abstracts)\n"
   ]
  },
  {
   "cell_type": "code",
   "execution_count": null,
   "metadata": {},
   "outputs": [],
   "source": [
    "readCSV('haverford_awards.csv', 'Haverford College', 1)\n",
    "readCSV('bryn_mawr_awards.csv', 'Bryn Mawr College', 2)\n",
    "readCSV('cheyney_awards.csv', 'Cheyney University of Pennsylvania', 3)"
   ]
  },
  {
   "cell_type": "code",
   "execution_count": null,
   "metadata": {},
   "outputs": [],
   "source": []
  }
 ],
 "metadata": {
  "kernelspec": {
   "display_name": "base",
   "language": "python",
   "name": "python3"
  },
  "language_info": {
   "codemirror_mode": {
    "name": "ipython",
    "version": 3
   },
   "file_extension": ".py",
   "mimetype": "text/x-python",
   "name": "python",
   "nbconvert_exporter": "python",
   "pygments_lexer": "ipython3",
   "version": "3.12.4"
  }
 },
 "nbformat": 4,
 "nbformat_minor": 2
}
