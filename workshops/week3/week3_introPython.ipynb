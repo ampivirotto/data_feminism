{
 "cells": [
  {
   "cell_type": "markdown",
   "metadata": {},
   "source": [
    "# Workshop 1: Introduction to Python \n",
    "This workshop is modified from examples from [Computational and Inferential Thinking: The Foundations of Data Science](https://inferentialthinking.com/chapters/intro.html).\n",
    "\n",
    "\n",
    "## Expressions \n",
    "Similar to learning other languages, programming languages also depend on grammatical rules that govern the way the language is utilized. In this workshop, we will begin by learning some of the basic rules of Python. These rules will give you foundational knowledge which can then be leveraged towards completing and solving more complex problems. \n",
    "\n",
    "Programs are made up of expressions, which describe to the computer how to combine pieces of data. For example, a multiplication expression consists of a * symbol between two numerical expressions. Expressions, such as 3 * 4, are evaluated by the computer. The value (the result of evaluation) of the last expression in each cell, 12 in this case, is displayed below the cell.\n",
    "\n",
    "**Data Type 1:** Integers - these are whole numbers (either negative or positive) such as -1, 2, 44, 232432\n",
    "\n",
    "**Data Type 2:** Floats - these are fractional numbers (again either negative or positive) such as -1.49453, 0.554, 324.4234, 99.0"
   ]
  },
  {
   "cell_type": "code",
   "execution_count": null,
   "metadata": {},
   "outputs": [],
   "source": [
    "3390"
   ]
  },
  {
   "cell_type": "code",
   "execution_count": null,
   "metadata": {},
   "outputs": [],
   "source": [
    "3 * 4"
   ]
  },
  {
   "cell_type": "markdown",
   "metadata": {},
   "source": [
    "![Expression Table](expression_table.png)"
   ]
  },
  {
   "cell_type": "markdown",
   "metadata": {},
   "source": [
    "## Variable Names\n",
    "\n",
    "Instead of solving for the same thing again and again, often times we will give names to the expressions we compute. This can be seen as the same thing as setting something equal to variable in algebra. We can do this through assignment statements by setting a name equal to an expression using an equal sign (=). Let's try some examples. "
   ]
  },
  {
   "cell_type": "code",
   "execution_count": null,
   "metadata": {},
   "outputs": [],
   "source": [
    "number_of_students = 29\n",
    "number_of_students"
   ]
  },
  {
   "cell_type": "code",
   "execution_count": null,
   "metadata": {},
   "outputs": [],
   "source": []
  },
  {
   "cell_type": "code",
   "execution_count": null,
   "metadata": {},
   "outputs": [],
   "source": []
  },
  {
   "cell_type": "markdown",
   "metadata": {},
   "source": [
    "Let's try combining variable names with what you know about expressions and numbers. \n",
    "\n",
    "\n",
    "**Try this yourself!** <br /> Write a Python expression in this next cell that's equal to $5 \\times (4 \\frac{10}{11}) - 51 \\frac{1}{3} + 2^{.5 \\times 22} + \\frac{26}{33}$.  That's five times four and ten elevenths, minus 51 and a third, plus two to the power of half of 22, plus 26 33rds.  By \"$4 \\frac{10}{11}$\" we mean $4+\\frac{10}{11}$, not $4 \\times \\frac{10}{11}$.\n",
    "\n",
    "Replace the ellipses (`...`) with your expression.  Try to use parentheses only when necessary.\n",
    "\n",
    "*Hint:* The correct output should be a familiar number."
   ]
  },
  {
   "cell_type": "code",
   "execution_count": null,
   "metadata": {},
   "outputs": [],
   "source": [
    "expression = ...\n",
    "expression"
   ]
  },
  {
   "cell_type": "markdown",
   "metadata": {},
   "source": [
    "We can also combine multiple different expressions to create a more complex string of commands for the computer to follow. Let's say you're buying an item and there's both a sales tax of 5% and a service fee of 7%. Let's first figure out the sales tax and then the service fee if the item is $27. "
   ]
  },
  {
   "cell_type": "code",
   "execution_count": null,
   "metadata": {},
   "outputs": [],
   "source": [
    "item_cost = ...\n",
    "sales_tax = ...\n",
    "service_fee = ...\n",
    "total_cost = ...\n",
    "\n",
    "total_cost"
   ]
  },
  {
   "cell_type": "markdown",
   "metadata": {},
   "source": [
    "## Strings\n",
    "\n",
    "So far we've just talked about numbers, but what about data in text form? A piece of text represented in a computer is called a *string*. A string can be a single character, a word, a sentence, or even an entire corpus of material. Let's look at some examples of strings. \n",
    "\n",
    "**Data Type 3:** Strings - series of one of more characters of text. This could include even numbers when enclosed with quotes. Quotation used can be single '' or double \"\". "
   ]
  },
  {
   "cell_type": "code",
   "execution_count": null,
   "metadata": {},
   "outputs": [],
   "source": [
    "'hello, world'"
   ]
  },
  {
   "cell_type": "code",
   "execution_count": null,
   "metadata": {},
   "outputs": [],
   "source": [
    "'h'"
   ]
  },
  {
   "cell_type": "code",
   "execution_count": null,
   "metadata": {},
   "outputs": [],
   "source": []
  },
  {
   "cell_type": "markdown",
   "metadata": {},
   "source": [
    "There are lots of interesting things we can do with strings - we'll talk about some of the more complicated ones in minute - but one of the easiest things to do with strings is to combine them. We can do this with a simple addition sign (+)."
   ]
  },
  {
   "cell_type": "code",
   "execution_count": null,
   "metadata": {},
   "outputs": [],
   "source": [
    "'data' + 'science'"
   ]
  },
  {
   "cell_type": "markdown",
   "metadata": {},
   "source": [
    "## Functions\n",
    "\n",
    "Let's say we're doing the same thing again and again. We can create a function - which is esssentially a bit of code that performs some task when we call it. What do we mean when we call it?  Functions all have names so we can use those names when we want to invoke a specific function. There are several functions that are built-into the Python language including: print(), max(), type(), min(), mean(), and many more.  Let's try out a couple of these: "
   ]
  },
  {
   "cell_type": "code",
   "execution_count": null,
   "metadata": {},
   "outputs": [],
   "source": [
    "'Today is Monday'\n",
    "print('Hello, world')\n",
    "'Today is Monday'"
   ]
  },
  {
   "cell_type": "code",
   "execution_count": null,
   "metadata": {},
   "outputs": [],
   "source": [
    "len('abcdefghijklmnopqrstuvwxyz')"
   ]
  },
  {
   "cell_type": "code",
   "execution_count": null,
   "metadata": {},
   "outputs": [],
   "source": [
    "max(1, 2, 3, 4)"
   ]
  },
  {
   "cell_type": "code",
   "execution_count": null,
   "metadata": {},
   "outputs": [],
   "source": [
    "newNumber = int('5')\n",
    "newNumber + 10"
   ]
  },
  {
   "cell_type": "markdown",
   "metadata": {},
   "source": [
    "We also have several different kinds of string specific functions such as .upper() and .replace(). Notice these have to be used with strings (as indicated by the dot (.)) so you would call this with string.upper() - let's look at some examples."
   ]
  },
  {
   "cell_type": "code",
   "execution_count": null,
   "metadata": {},
   "outputs": [],
   "source": [
    "word = 'data'\n",
    "word.upper()"
   ]
  },
  {
   "cell_type": "code",
   "execution_count": null,
   "metadata": {},
   "outputs": [],
   "source": [
    "word"
   ]
  },
  {
   "cell_type": "markdown",
   "metadata": {},
   "source": [
    "To create your own function, we need to name the function, list the parameters, and create the body with the task. \n",
    "\n",
    "![Function Example](function_definition.jpeg)"
   ]
  },
  {
   "cell_type": "code",
   "execution_count": null,
   "metadata": {},
   "outputs": [],
   "source": [
    "def multiplyByTen(...):\n",
    "    ...\n",
    "    return ..."
   ]
  },
  {
   "cell_type": "markdown",
   "metadata": {},
   "source": [
    "**Try this yourself!** <br /> Given the heights of the three of the highest scoring WNBA players (Diane Taurasi, Tamika Catchings, Tina Thompson), write an expression that computes the smallest difference between any of the three heights. Your expression shouldn't have any numbers in it, only function calls and the names `diane`, `tamika`, and `tinaT`. Give the value of your expression the name `min_height_difference`."
   ]
  },
  {
   "cell_type": "code",
   "execution_count": null,
   "metadata": {},
   "outputs": [],
   "source": [
    "# The three players' heights, in meters:\n",
    "diane =  1.83 # Diane Taurasi is 6'0\"\n",
    "tamika = 1.91  # Tamika Catchings 6'3\"\n",
    "tineT = 1.88 # Tina Thompson is 6'2\"\n",
    "\n",
    "# We'd like to look at all 3 pairs of heights, compute the absolute\n",
    "# difference between each pair, and then find the smallest of those\n",
    "# 3 absolute differences.  This is left to you!  If you're stuck,\n",
    "# try computing the value for each step of the process. \n",
    "min_height_difference = ..."
   ]
  },
  {
   "cell_type": "markdown",
   "metadata": {},
   "source": [
    "**Try this yourself!** <br/> Assign strings to the names `word1` and `word2` so that the final expression evaluates to a 10-letter English word with three double letters in a row. Essentially we're starting with the word 'beeper' and we want to convert this to another word using the string method replace.  \n",
    "\n",
    "*Hint:* The call to `print` is there to print out the intermediate result called `word3`. This should be an English word with two double letters in a row."
   ]
  },
  {
   "cell_type": "code",
   "execution_count": null,
   "metadata": {},
   "outputs": [],
   "source": [
    "word1 = ...\n",
    "word2 = ...\n",
    "\n",
    "## we start here\n",
    "a = 'beeper'\n",
    "\n",
    "## what word can we replace p with to make it a new word? save this as word1\n",
    "word3 = a.replace('p', word1) \n",
    "print('the:', word3)\n",
    "\n",
    "## what word can replace bee with to make it the final word we're looking for? save this as word2 \n",
    "word3.replace('bee', word2)"
   ]
  },
  {
   "cell_type": "markdown",
   "metadata": {},
   "source": [
    "## Comparisons\n",
    "\n",
    "Sometimes we want to be able to compare different variables or expressions. This could be to find matching amounts/text or perhaps you want to identify when a specifc number rises above a certain threshold. We can do this through using comparison statements. \n",
    "\n",
    "**Data Type 4:** Booleans - represent either True or False often in logic or conditional statements"
   ]
  },
  {
   "cell_type": "code",
   "execution_count": null,
   "metadata": {},
   "outputs": [],
   "source": [
    "1 > 5"
   ]
  },
  {
   "cell_type": "code",
   "execution_count": null,
   "metadata": {},
   "outputs": [],
   "source": [
    "5 > 1"
   ]
  },
  {
   "cell_type": "code",
   "execution_count": null,
   "metadata": {},
   "outputs": [],
   "source": [
    "name1 = ...\n",
    "name2 = ...\n",
    "\n",
    "name1 > name2 "
   ]
  },
  {
   "cell_type": "markdown",
   "metadata": {},
   "source": [
    "![Comparison Table](comparison_methods.png)\n",
    "\n",
    "\n",
    "\n",
    "Conditionals in python allow us to tell the computer when to do certain tasks depending on what is true. We can do this with a combination of if, elif, and else statements - let's look at some examples"
   ]
  },
  {
   "cell_type": "code",
   "execution_count": null,
   "metadata": {},
   "outputs": [],
   "source": [
    "age = 25\n",
    "\n",
    "if (age < 30) and (age >= 20):\n",
    "    print('You are in your twenties!')\n",
    "else:\n",
    "    print('You are not in your twenties!')"
   ]
  },
  {
   "cell_type": "markdown",
   "metadata": {},
   "source": [
    "## Automation (Loops and Iterations)\n",
    "\n",
    "Sometimes we will want to repeat the exact same task again and again. In python, loops allow us to create this type of automations to repeat tasks efficiently. The most common types of loops are using *for* and *while*. A for loop is often used to iterate over a sequence such as a list executing the same code for each element in the list. A while loop continues to run as long as a specified condition remains true. \n",
    "\n",
    "**Data Type 5:** List - an ordered, mutable collection of items. Uses square brackets [ ]"
   ]
  },
  {
   "cell_type": "code",
   "execution_count": 59,
   "metadata": {},
   "outputs": [],
   "source": [
    "newList = [1, 2, 'hello', 9.42, ['h', 'e', 'l', 'l', 'o']]"
   ]
  },
  {
   "cell_type": "code",
   "execution_count": null,
   "metadata": {},
   "outputs": [],
   "source": [
    "for item in newList:\n",
    "    print(type(item))"
   ]
  },
  {
   "cell_type": "code",
   "execution_count": null,
   "metadata": {},
   "outputs": [],
   "source": []
  }
 ],
 "metadata": {
  "kernelspec": {
   "display_name": "base",
   "language": "python",
   "name": "python3"
  },
  "language_info": {
   "codemirror_mode": {
    "name": "ipython",
    "version": 3
   },
   "file_extension": ".py",
   "mimetype": "text/x-python",
   "name": "python",
   "nbconvert_exporter": "python",
   "pygments_lexer": "ipython3",
   "version": "3.12.4"
  }
 },
 "nbformat": 4,
 "nbformat_minor": 2
}
